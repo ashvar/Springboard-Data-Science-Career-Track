{
 "cells": [
  {
   "cell_type": "markdown",
   "metadata": {},
   "source": [
    "## Springboard Data Science Career Track"
   ]
  },
  {
   "cell_type": "markdown",
   "metadata": {},
   "source": [
    "### 8.3 - SQL Case Study (Country Club) Part 2 by Ashutosh Varshney"
   ]
  },
  {
   "cell_type": "markdown",
   "metadata": {},
   "source": [
    "Imports, function defs and testing"
   ]
  },
  {
   "cell_type": "code",
   "execution_count": 1,
   "metadata": {},
   "outputs": [
    {
     "name": "stdout",
     "output_type": "stream",
     "text": [
      "2.6.0\n",
      "2. Query all tasks\n",
      "(0, 'Tennis Court 1', 5, 25, 10000, 200)\n",
      "(1, 'Tennis Court 2', 5, 25, 8000, 200)\n",
      "(2, 'Badminton Court', 0, 15.5, 4000, 50)\n",
      "(3, 'Table Tennis', 0, 5, 320, 10)\n",
      "(4, 'Massage Room 1', 9.9, 80, 4000, 3000)\n",
      "(5, 'Massage Room 2', 9.9, 80, 4000, 3000)\n",
      "(6, 'Squash Court', 3.5, 17.5, 5000, 80)\n",
      "(7, 'Snooker Table', 0, 5, 450, 15)\n",
      "(8, 'Pool Table', 0, 5, 400, 15)\n"
     ]
    }
   ],
   "source": [
    "import sqlite3\n",
    "from sqlite3 import Error\n",
    "\n",
    " \n",
    "def create_connection(db_file):\n",
    "    \"\"\" create a database connection to the SQLite database\n",
    "        specified by the db_file\n",
    "    :param db_file: database file\n",
    "    :return: Connection object or None\n",
    "    \"\"\"\n",
    "    conn = None\n",
    "    try:\n",
    "        conn = sqlite3.connect(db_file)\n",
    "        print(sqlite3.version)\n",
    "    except Error as e:\n",
    "        print(e)\n",
    " \n",
    "    return conn\n",
    "\n",
    " \n",
    "def select_all_tasks(conn):\n",
    "    \"\"\"\n",
    "    Query all rows in the tasks table\n",
    "    :param conn: the Connection object\n",
    "    :return:\n",
    "    \"\"\"\n",
    "    cur = conn.cursor()\n",
    "    \n",
    "    query1 = \"\"\"\n",
    "        SELECT *\n",
    "        FROM FACILITIES\n",
    "        \"\"\"\n",
    "    cur.execute(query1)\n",
    " \n",
    "    rows = cur.fetchall()\n",
    " \n",
    "    for row in rows:\n",
    "        print(row)\n",
    "\n",
    "\n",
    "def main():\n",
    "    database = \"C:\\Springboard\\coursework\\SQLFiles Tier 1\\sqlite_db_pythonsqlite.db\"\n",
    " \n",
    "    # create a database connection\n",
    "    conn = create_connection(database)\n",
    "    with conn: \n",
    "        print(\"2. Query all tasks\")\n",
    "        select_all_tasks(conn)\n",
    " \n",
    " \n",
    "if __name__ == '__main__':\n",
    "    main()"
   ]
  },
  {
   "cell_type": "markdown",
   "metadata": {},
   "source": [
    "Setup database connection"
   ]
  },
  {
   "cell_type": "code",
   "execution_count": 2,
   "metadata": {},
   "outputs": [
    {
     "name": "stdout",
     "output_type": "stream",
     "text": [
      "2.6.0\n"
     ]
    }
   ],
   "source": [
    "database = \"C:\\Springboard\\coursework\\SQLFiles Tier 1\\sqlite_db_pythonsqlite.db\"\n",
    "\n",
    "# create a database connection\n",
    "conn = create_connection(database)"
   ]
  },
  {
   "cell_type": "markdown",
   "metadata": {},
   "source": [
    "#### Q10: Produce a list of facilities with a total revenue less than 1000. The output of facility name and total revenue, sorted by revenue. Remember that there's a different cost for guests and members!"
   ]
  },
  {
   "cell_type": "code",
   "execution_count": 3,
   "metadata": {},
   "outputs": [
    {
     "name": "stdout",
     "output_type": "stream",
     "text": [
      "(0, 1, 3, 'Table Tennis', 90)\n",
      "(3, 1, 7, 'Snooker Table', 115)\n",
      "(4, 1, 8, 'Pool Table', 265)\n",
      "(18, 1, 2, 'Badminton Court', 604.5)\n"
     ]
    }
   ],
   "source": [
    "query = \"\"\"\n",
    "        SELECT b.bookid, b.memid, f.facid, f.name, \n",
    "               sum(case when b.memid = 0 then f.guestcost else f.membercost end) as total_revenue\n",
    "        FROM Bookings b\n",
    "        LEFT JOIN Facilities f using (facid)\n",
    "        GROUP BY f.facid\n",
    "        HAVING total_revenue < 1000\n",
    "        ORDER BY total_revenue asc\n",
    "        \"\"\"\n",
    "cur = conn.cursor()\n",
    "cur.execute(query)\n",
    "rows = cur.fetchall()\n",
    "\n",
    "for row in rows:\n",
    "    print(row)"
   ]
  },
  {
   "cell_type": "markdown",
   "metadata": {},
   "source": [
    "#### Q11: Produce a report of members and who recommended them in alphabetic surname,firstname order"
   ]
  },
  {
   "cell_type": "code",
   "execution_count": 4,
   "metadata": {},
   "outputs": [
    {
     "name": "stdout",
     "output_type": "stream",
     "text": [
      "('Bader', 'Florence', 'Sarwin', 'Ramnaresh')\n",
      "('Baker', 'Anne', None, None)\n",
      "('Baker', 'Timothy', 'Coplin', 'Joan')\n",
      "('Boothe', 'Tim', None, None)\n",
      "('Butters', 'Gerald', 'Genting', 'Matthew')\n",
      "('Coplin', 'Joan', None, None)\n",
      "('Crumpet', 'Erica', None, None)\n",
      "('Dare', 'Nancy', None, None)\n",
      "('Farrell', 'David', None, None)\n",
      "('Farrell', 'Jemima', 'Baker', 'Timothy')\n",
      "('Farrell', 'Jemima', 'Pinker', 'David')\n",
      "('GUEST', 'GUEST', None, None)\n",
      "('Genting', 'Matthew', 'Rumney', 'Henrietta')\n",
      "('Hunt', 'John', None, None)\n",
      "('Jones', 'David', 'Jones', 'Douglas')\n",
      "('Jones', 'Douglas', None, None)\n",
      "('Joplette', 'Janice', 'Dare', 'Nancy')\n",
      "('Joplette', 'Janice', 'Jones', 'David')\n",
      "('Mackenzie', 'Anna', None, None)\n",
      "('Owen', 'Charles', None, None)\n",
      "('Pinker', 'David', None, None)\n",
      "('Purview', 'Millicent', 'Hunt', 'John')\n",
      "('Rownam', 'Tim', 'Boothe', 'Tim')\n",
      "('Rumney', 'Henrietta', None, None)\n",
      "('Sarwin', 'Ramnaresh', None, None)\n",
      "('Smith', 'Darren', 'Joplette', 'Janice')\n",
      "('Smith', 'Darren', 'Butters', 'Gerald')\n",
      "('Smith', 'Darren', 'Owen', 'Charles')\n",
      "('Smith', 'Darren', 'Smith', 'Jack')\n",
      "('Smith', 'Darren', 'Mackenzie', 'Anna')\n",
      "('Smith', 'Darren', None, None)\n",
      "('Smith', 'Jack', None, None)\n",
      "('Smith', 'Tracy', 'Worthington-Smyth', 'Henry')\n",
      "('Smith', 'Tracy', 'Purview', 'Millicent')\n",
      "('Smith', 'Tracy', 'Crumpet', 'Erica')\n",
      "('Stibbons', 'Ponder', 'Baker', 'Anne')\n",
      "('Stibbons', 'Ponder', 'Bader', 'Florence')\n",
      "('Tracy', 'Burton', 'Stibbons', 'Ponder')\n",
      "('Tupperware', 'Hyacinth', None, None)\n",
      "('Worthington-Smyth', 'Henry', None, None)\n"
     ]
    }
   ],
   "source": [
    "query = \"\"\"\n",
    "        SELECT m1.surname, m1.firstname, m2.surname, m2.firstname\n",
    "        FROM Members m1\n",
    "        LEFT OUTER JOIN Members m2 ON m1.memid = m2.recommendedby\n",
    "        ORDER BY m1.surname, m1.firstname\n",
    "        \"\"\"\n",
    "cur = conn.cursor()\n",
    "cur.execute(query)\n",
    "rows = cur.fetchall()\n",
    "\n",
    "for row in rows:\n",
    "    print(row)"
   ]
  },
  {
   "cell_type": "markdown",
   "metadata": {},
   "source": [
    "#### Q12: Find the facilities with their usage by member, but not guests"
   ]
  },
  {
   "cell_type": "code",
   "execution_count": 14,
   "metadata": {},
   "outputs": [
    {
     "name": "stdout",
     "output_type": "stream",
     "text": [
      "('Tennis Court 1', 308)\n",
      "('Tennis Court 2', 276)\n",
      "('Badminton Court', 344)\n",
      "('Table Tennis', 385)\n",
      "('Massage Room 1', 421)\n",
      "('Massage Room 2', 27)\n",
      "('Squash Court', 195)\n",
      "('Snooker Table', 421)\n",
      "('Pool Table', 783)\n"
     ]
    }
   ],
   "source": [
    "query = \"\"\"\n",
    "        SELECT f.name, COUNT(b.facid)\n",
    "        FROM Bookings b\n",
    "        LEFT JOIN Facilities f USING (facid)\n",
    "        WHERE b.memid <> 0\n",
    "        GROUP BY b.facid\n",
    "        \"\"\"\n",
    "\n",
    "cur = conn.cursor()\n",
    "cur.execute(query)\n",
    "rows = cur.fetchall()\n",
    "\n",
    "for row in rows:\n",
    "    print(row)"
   ]
  },
  {
   "cell_type": "markdown",
   "metadata": {},
   "source": [
    "#### Q13: Find the facilities usage by month, but not guests"
   ]
  },
  {
   "cell_type": "code",
   "execution_count": 18,
   "metadata": {},
   "outputs": [
    {
     "name": "stdout",
     "output_type": "stream",
     "text": [
      "('Tennis Court 1', 65, '2012-07')\n",
      "('Tennis Court 1', 111, '2012-08')\n",
      "('Tennis Court 1', 132, '2012-09')\n",
      "('Tennis Court 2', 41, '2012-07')\n",
      "('Tennis Court 2', 109, '2012-08')\n",
      "('Tennis Court 2', 126, '2012-09')\n",
      "('Badminton Court', 51, '2012-07')\n",
      "('Badminton Court', 132, '2012-08')\n",
      "('Badminton Court', 161, '2012-09')\n",
      "('Table Tennis', 48, '2012-07')\n",
      "('Table Tennis', 143, '2012-08')\n",
      "('Table Tennis', 194, '2012-09')\n",
      "('Massage Room 1', 77, '2012-07')\n",
      "('Massage Room 1', 153, '2012-08')\n",
      "('Massage Room 1', 191, '2012-09')\n",
      "('Massage Room 2', 4, '2012-07')\n",
      "('Massage Room 2', 9, '2012-08')\n",
      "('Massage Room 2', 14, '2012-09')\n",
      "('Squash Court', 23, '2012-07')\n",
      "('Squash Court', 85, '2012-08')\n",
      "('Squash Court', 87, '2012-09')\n",
      "('Snooker Table', 68, '2012-07')\n",
      "('Snooker Table', 154, '2012-08')\n",
      "('Snooker Table', 199, '2012-09')\n",
      "('Pool Table', 103, '2012-07')\n",
      "('Pool Table', 272, '2012-08')\n",
      "('Pool Table', 408, '2012-09')\n"
     ]
    }
   ],
   "source": [
    "query = \"\"\"\n",
    "        SELECT f.name, COUNT(b.facid), Substr (b.starttime, 1, 7) AS period\n",
    "        FROM Bookings b\n",
    "        LEFT JOIN Facilities f USING (facid)\n",
    "        WHERE b.memid <> 0\n",
    "        GROUP BY b.facid, period\n",
    "        \"\"\"\n",
    "\n",
    "cur = conn.cursor()\n",
    "cur.execute(query)\n",
    "rows = cur.fetchall()\n",
    "\n",
    "for row in rows:\n",
    "    print(row)"
   ]
  },
  {
   "cell_type": "markdown",
   "metadata": {},
   "source": [
    "Cleanup"
   ]
  },
  {
   "cell_type": "code",
   "execution_count": 19,
   "metadata": {},
   "outputs": [],
   "source": [
    "conn.close()"
   ]
  },
  {
   "cell_type": "code",
   "execution_count": null,
   "metadata": {},
   "outputs": [],
   "source": []
  }
 ],
 "metadata": {
  "kernelspec": {
   "display_name": "Python 3",
   "language": "python",
   "name": "python3"
  },
  "language_info": {
   "codemirror_mode": {
    "name": "ipython",
    "version": 3
   },
   "file_extension": ".py",
   "mimetype": "text/x-python",
   "name": "python",
   "nbconvert_exporter": "python",
   "pygments_lexer": "ipython3",
   "version": "3.8.3"
  }
 },
 "nbformat": 4,
 "nbformat_minor": 4
}
